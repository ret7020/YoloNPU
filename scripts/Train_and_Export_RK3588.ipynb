{
  "nbformat": 4,
  "nbformat_minor": 0,
  "metadata": {
    "colab": {
      "provenance": [],
      "gpuType": "T4"
    },
    "kernelspec": {
      "name": "python3",
      "display_name": "Python 3"
    },
    "language_info": {
      "name": "python"
    },
    "accelerator": "GPU"
  },
  "cells": [
    {
      "cell_type": "markdown",
      "source": [
        "## Train part"
      ],
      "metadata": {
        "id": "aBZcfOGK2GC0"
      }
    },
    {
      "cell_type": "code",
      "execution_count": null,
      "metadata": {
        "id": "3ONtO_Pdw18d"
      },
      "outputs": [],
      "source": [
        "!pip3 install ultralytics"
      ]
    },
    {
      "cell_type": "code",
      "source": [
        "!cp /content/drive/MyDrive/Skoltech_Dead_Electronics.v1i.yolov8.zip .\n",
        "!unzip Skoltech_Dead_Electronics.v1i.yolov8.zip"
      ],
      "metadata": {
        "id": "aGInpPybyjIg"
      },
      "execution_count": null,
      "outputs": []
    },
    {
      "cell_type": "code",
      "source": [
        "# Train\n",
        "from ultralytics import YOLO\n",
        "\n",
        "model = YOLO(\"yolov8n.pt\")\n",
        "results = model.train(data=\"/content/data.yaml\", epochs=70, batch=64, imgsz=640, save_period=10, patience=20)"
      ],
      "metadata": {
        "id": "2hTzkxPWzNvt"
      },
      "execution_count": null,
      "outputs": []
    },
    {
      "cell_type": "markdown",
      "source": [
        "## Export part"
      ],
      "metadata": {
        "id": "hj-1Fogu2DtP"
      }
    },
    {
      "cell_type": "code",
      "source": [
        "!apt install python3.10-venv"
      ],
      "metadata": {
        "id": "yylhP6yy2IDc"
      },
      "execution_count": null,
      "outputs": []
    },
    {
      "cell_type": "code",
      "source": [
        "import locale\n",
        "locale.getpreferredencoding = lambda: \"UTF-8\""
      ],
      "metadata": {
        "id": "qbc1nzWV2MZp"
      },
      "execution_count": null,
      "outputs": []
    },
    {
      "cell_type": "code",
      "source": [
        "!git clone https://github.com/airockchip/ultralytics_yolov8\n",
        "%cd ultralytics_yolov8\n",
        "!python3 -m venv env\n",
        "!source env/bin/activate\n",
        "!pip3 uninstall ultralytics -y\n",
        "!pip3 install onnx onnxruntime"
      ],
      "metadata": {
        "id": "o1ah-3Iv2TtN"
      },
      "execution_count": null,
      "outputs": []
    },
    {
      "cell_type": "code",
      "source": [
        "!PYTHONPATH=./ python ./ultralytics/engine/exporter.py"
      ],
      "metadata": {
        "id": "wE9si_5p2dzN"
      },
      "execution_count": null,
      "outputs": []
    },
    {
      "cell_type": "code",
      "source": [
        "!cp /content/runs/detect/train3/weights/best.onnx /content/model_ver_0.0.1_70_epochs.onnx"
      ],
      "metadata": {
        "id": "YW_CRuS72xSU"
      },
      "execution_count": null,
      "outputs": []
    },
    {
      "cell_type": "code",
      "source": [
        "!python3 --version"
      ],
      "metadata": {
        "id": "4MtBq-Db3OqN"
      },
      "execution_count": null,
      "outputs": []
    },
    {
      "cell_type": "code",
      "source": [
        "%cd /content\n",
        "!wget https://raw.githubusercontent.com/airockchip/rknn-toolkit2/refs/heads/master/rknn-toolkit2/packages/x86_64/rknn_toolkit2-2.3.2-cp311-cp311-manylinux_2_17_x86_64.manylinux2014_x86_64.whl\n",
        "!pip3 install rknn_toolkit2-2.3.2-cp311-cp311-manylinux_2_17_x86_64.manylinux2014_x86_64.whl"
      ],
      "metadata": {
        "id": "H_Empfh524wY"
      },
      "execution_count": null,
      "outputs": []
    },
    {
      "cell_type": "code",
      "source": [
        "%cd /content\n",
        "!git clone https://github.com/airockchip/rknn_model_zoo\n",
        "%cd rknn_model_zoo/examples/yolov8"
      ],
      "metadata": {
        "id": "7DrI7Zio4a7Y"
      },
      "execution_count": null,
      "outputs": []
    },
    {
      "cell_type": "code",
      "source": [
        "import os\n",
        "import cv2\n",
        "from tqdm import tqdm\n",
        "\n",
        "# Resize image to another for calib\n",
        "RESIZE_TO_IMGSZ = None # None if no resize needed\n",
        "\n",
        "IMG_PATH = \"/content/train/images\"\n",
        "files = os.listdir(IMG_PATH)\n",
        "\n",
        "with open(\"/content/data_subset.txt\", \"w\") as fd:\n",
        "  for i in tqdm(files):\n",
        "    print(os.path.join(IMG_PATH, i), file=fd)\n",
        "    if RESIZE_TO_IMGSZ:\n",
        "      img = cv2.imread(os.path.join(IMG_PATH, i))\n",
        "      img = cv2.resize(img, (RESIZE_TO_IMGSZ, RESIZE_TO_IMGSZ))\n",
        "      cv2.imwrite(os.path.join(IMG_PATH, i), img)"
      ],
      "metadata": {
        "id": "9KbO9VB55QsG"
      },
      "execution_count": null,
      "outputs": []
    },
    {
      "cell_type": "code",
      "source": [
        "%cd python"
      ],
      "metadata": {
        "id": "H5mvmUBz420B"
      },
      "execution_count": null,
      "outputs": []
    },
    {
      "cell_type": "code",
      "source": [
        "!python3 convert.py /content/model_ver_0.0.1_70_epochs.onnx rk3588 i8"
      ],
      "metadata": {
        "id": "9bGI1HYI5EIG"
      },
      "execution_count": null,
      "outputs": []
    },
    {
      "cell_type": "code",
      "source": [
        "!cp ../model/yolov8.rknn /content/model_ver_0.0.1_70_epochs.rknn"
      ],
      "metadata": {
        "id": "Vx5gBJjW6IX0"
      },
      "execution_count": null,
      "outputs": []
    }
  ]
}